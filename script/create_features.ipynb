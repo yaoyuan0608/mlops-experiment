{
 "cells": [
  {
   "cell_type": "code",
   "execution_count": 1,
   "metadata": {},
   "outputs": [],
   "source": [
    "import pandas as pd\n",
    "import numpy as np \n",
    "import re\n",
    "from sklearn.feature_extraction import _stop_words\n",
    "from sklearn.preprocessing import StandardScaler, LabelEncoder, OneHotEncoder\n",
    "from sklearn.feature_selection import SelectPercentile, chi2\n",
    "from sklearn.feature_extraction.text import TfidfTransformer, CountVectorizer, HashingVectorizer"
   ]
  },
  {
   "cell_type": "code",
   "execution_count": 2,
   "metadata": {},
   "outputs": [],
   "source": [
    "df_train = pd.read_csv('data/imdb_data.csv')\n",
    "df_test = pd.read_csv('data/imdb_data_fake.csv')"
   ]
  },
  {
   "cell_type": "code",
   "execution_count": 3,
   "metadata": {},
   "outputs": [],
   "source": [
    "text_col = df_train['review']\n",
    "text_col_test = df_test['review']\n",
    "\n",
    "text_col = text_col.apply(lambda x: x.lower())\n",
    "text_col_test = text_col_test.apply(lambda x: x.lower())\n",
    "\n",
    "text_col = text_col.apply(lambda x: x.replace('<br />', ' '))\n",
    "text_col_test = text_col_test.apply(lambda x: x.replace('<br />', ' '))\n",
    "text_col = text_col.apply(lambda x: x.replace('<br/>', ' '))\n",
    "text_col_test = text_col_test.apply(lambda x: x.replace('<br/>', ' '))\n",
    "\n",
    "text_col = text_col.apply(lambda x: re.sub(r'[^\\w\\s]','',x))\n",
    "text_col_test = text_col_test.apply(lambda x: re.sub(r'[^\\w\\s]','',str(x)))\n",
    "\n",
    "text_col = text_col.apply(lambda x:[xx.strip() for xx in x.split() if xx not in _stop_words.ENGLISH_STOP_WORDS])\n",
    "text_col_test = text_col_test.apply(lambda x:[xx.strip() for xx in x.split() if xx not in _stop_words.ENGLISH_STOP_WORDS])\n"
   ]
  },
  {
   "cell_type": "code",
   "execution_count": 13,
   "metadata": {},
   "outputs": [],
   "source": [
    "le = LabelEncoder()\n",
    "df_train['label'] = le.fit_transform(df_train['sentiment'])\n",
    "df_test['label'] = le.fit_transform(df_test['sentiment'])"
   ]
  },
  {
   "cell_type": "code",
   "execution_count": 5,
   "metadata": {},
   "outputs": [],
   "source": [
    "vectorizer = HashingVectorizer(n_features=1000)\n",
    "text_col_sparse = vectorizer.fit_transform(text_col.apply(lambda x: ' '.join(x)))\n",
    "text_col_test_sparse = vectorizer.fit_transform(text_col_test.apply(lambda x: ' '.join(x)))"
   ]
  },
  {
   "cell_type": "code",
   "execution_count": 15,
   "metadata": {},
   "outputs": [],
   "source": [
    "train_clean = pd.concat([pd.DataFrame(text_col_sparse.toarray()), df_train['label']], axis=1)\n",
    "test_clean = pd.concat([pd.DataFrame(text_col_test_sparse.toarray()), df_test['label']], axis=1)"
   ]
  },
  {
   "cell_type": "code",
   "execution_count": 16,
   "metadata": {},
   "outputs": [],
   "source": [
    "train_clean.to_csv('./data/train_data.csv', index=False)\n",
    "test_clean.to_csv('./data/test_data.csv', index=False)"
   ]
  },
  {
   "cell_type": "code",
   "execution_count": null,
   "metadata": {},
   "outputs": [],
   "source": []
  }
 ],
 "metadata": {
  "kernelspec": {
   "display_name": "mlops",
   "language": "python",
   "name": "python3"
  },
  "language_info": {
   "codemirror_mode": {
    "name": "ipython",
    "version": 3
   },
   "file_extension": ".py",
   "mimetype": "text/x-python",
   "name": "python",
   "nbconvert_exporter": "python",
   "pygments_lexer": "ipython3",
   "version": "3.9.16"
  },
  "orig_nbformat": 4
 },
 "nbformat": 4,
 "nbformat_minor": 2
}
